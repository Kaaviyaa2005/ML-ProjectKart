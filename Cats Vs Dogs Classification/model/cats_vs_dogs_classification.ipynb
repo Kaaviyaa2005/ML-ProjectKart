{
  "nbformat": 4,
  "nbformat_minor": 0,
  "metadata": {
    "colab": {
      "provenance": [],
      "gpuType": "T4"
    },
    "kernelspec": {
      "name": "python3",
      "display_name": "Python 3"
    },
    "language_info": {
      "name": "python"
    },
    "accelerator": "GPU"
  },
  "cells": [
    {
      "cell_type": "code",
      "execution_count": null,
      "metadata": {
        "id": "v3tJTzT2dIhy"
      },
      "outputs": [],
      "source": [
        "!mkdir -p ~/.kaggle\n",
        "!cp kaggle.json ~/.kaggle/"
      ]
    },
    {
      "cell_type": "code",
      "source": [
        "!kaggle datasets download -d chetankv/dogs-cats-images"
      ],
      "metadata": {
        "colab": {
          "base_uri": "https://localhost:8080/"
        },
        "id": "3lucel3bdtAd",
        "outputId": "ae20f691-2530-4dbc-fd6d-a712ba3a6842"
      },
      "execution_count": null,
      "outputs": [
        {
          "output_type": "stream",
          "name": "stdout",
          "text": [
            "Warning: Your Kaggle API key is readable by other users on this system! To fix this, you can run 'chmod 600 /root/.kaggle/kaggle.json'\n",
            "Dataset URL: https://www.kaggle.com/datasets/chetankv/dogs-cats-images\n",
            "License(s): CC0-1.0\n",
            "dogs-cats-images.zip: Skipping, found more recently modified local copy (use --force to force download)\n"
          ]
        }
      ]
    },
    {
      "cell_type": "code",
      "source": [
        "import zipfile\n",
        "zip_ref = zipfile.ZipFile('dogs-cats-images.zip', 'r')\n",
        "zip_ref.extractall('/content')\n",
        "zip_ref.close()"
      ],
      "metadata": {
        "id": "iaLwJL-_dwZo"
      },
      "execution_count": null,
      "outputs": []
    },
    {
      "cell_type": "code",
      "source": [
        "# Import library\n",
        "import tensorflow as tf\n",
        "from tensorflow.keras.preprocessing.image import ImageDataGenerator\n",
        "\n",
        "train_datagen = ImageDataGenerator(\n",
        "    rescale=1./255,\n",
        "    shear_range=0.2,\n",
        "    zoom_range=0.2,\n",
        "    horizontal_flip=True,\n",
        "    rotation_range=20,\n",
        "    validation_split=0.2 # Splitting data into train and validation data\n",
        ")\n",
        "\n",
        "test_datagen = ImageDataGenerator(rescale=1/255.)\n",
        "\n",
        "train_data = train_datagen.flow_from_directory(directory=\"/content/dog vs cat/dataset/training_set\",\n",
        "                                               target_size=(240, 240),\n",
        "                                               batch_size=32,\n",
        "                                               class_mode=\"categorical\",\n",
        "                                               subset=\"training\") # Training data\n",
        "\n",
        "validation_data = train_datagen.flow_from_directory(directory=\"/content/dog vs cat/dataset/training_set\",\n",
        "                                               target_size=(240, 240),\n",
        "                                               batch_size=32,\n",
        "                                               class_mode=\"categorical\",\n",
        "                                               subset=\"validation\") # Validation data\n",
        "\n",
        "test_data = test_datagen.flow_from_directory(directory=\"/content/dog vs cat/dataset/test_set\",\n",
        "                                               target_size=(240, 240),\n",
        "                                               batch_size=32,\n",
        "                                               class_mode=\"categorical\")"
      ],
      "metadata": {
        "colab": {
          "base_uri": "https://localhost:8080/"
        },
        "id": "wWbJ4Yr5i8vJ",
        "outputId": "b0f436a1-4550-4829-ac89-e454a79ee7ed"
      },
      "execution_count": null,
      "outputs": [
        {
          "output_type": "stream",
          "name": "stdout",
          "text": [
            "Found 6400 images belonging to 2 classes.\n",
            "Found 1600 images belonging to 2 classes.\n",
            "Found 2000 images belonging to 2 classes.\n"
          ]
        }
      ]
    },
    {
      "cell_type": "code",
      "source": [
        "# Import the necessary libraries\n",
        "import tensorflow as tf\n",
        "from tensorflow.keras.applications import Xception\n",
        "from tensorflow.keras.models import Sequential\n",
        "from tensorflow.keras.layers import GlobalAveragePooling2D, Dense, Dropout\n",
        "from tensorflow.keras.optimizers import Adam\n",
        "from tensorflow.keras.callbacks import EarlyStopping\n",
        "\n",
        "# Set random seed\n",
        "tf.random.set_seed(42)\n",
        "\n",
        "# Load the Xception model\n",
        "base_model = Xception(input_shape=(240, 240, 3), include_top=False, weights='imagenet')\n",
        "\n",
        "# Freeze the base model\n",
        "base_model.trainable = False\n",
        "\n",
        "model = Sequential([\n",
        "  base_model,\n",
        "  GlobalAveragePooling2D(),\n",
        "  Dropout(0.2),\n",
        "  Dense(2, activation='softmax')\n",
        "])\n",
        "\n",
        "# Compile the model with optimizer and learning rate\n",
        "model.compile(optimizer=Adam(learning_rate=0.01),\n",
        "              loss='categorical_crossentropy',\n",
        "              metrics=['accuracy'])\n",
        "\n",
        "# Early stopping to prevent overfitting\n",
        "early_stopping = EarlyStopping(monitor='accuracy', patience=3)\n",
        "\n",
        "# Fit the model with training data and early stopping\n",
        "history = model.fit(train_data,\n",
        "                    batch_size=32,\n",
        "                    epochs=25,\n",
        "                    steps_per_epoch=len(train_data),\n",
        "                    callbacks=[early_stopping])"
      ],
      "metadata": {
        "id": "HVDm6I2mdx6u",
        "colab": {
          "base_uri": "https://localhost:8080/"
        },
        "outputId": "53c02275-1292-417d-bbdf-ace0e48777e8"
      },
      "execution_count": null,
      "outputs": [
        {
          "output_type": "stream",
          "name": "stdout",
          "text": [
            "Epoch 1/25\n",
            "200/200 [==============================] - 109s 501ms/step - loss: 0.0968 - accuracy: 0.9708\n",
            "Epoch 2/25\n",
            "200/200 [==============================] - 97s 484ms/step - loss: 0.0713 - accuracy: 0.9819\n",
            "Epoch 3/25\n",
            "200/200 [==============================] - 98s 489ms/step - loss: 0.0765 - accuracy: 0.9816\n",
            "Epoch 4/25\n",
            "200/200 [==============================] - 97s 485ms/step - loss: 0.0787 - accuracy: 0.9827\n",
            "Epoch 5/25\n",
            "200/200 [==============================] - 100s 499ms/step - loss: 0.0869 - accuracy: 0.9830\n",
            "Epoch 6/25\n",
            "200/200 [==============================] - 100s 502ms/step - loss: 0.0837 - accuracy: 0.9827\n",
            "Epoch 7/25\n",
            "200/200 [==============================] - 100s 502ms/step - loss: 0.0899 - accuracy: 0.9834\n",
            "Epoch 8/25\n",
            "200/200 [==============================] - 100s 497ms/step - loss: 0.0667 - accuracy: 0.9866\n",
            "Epoch 9/25\n",
            "200/200 [==============================] - 97s 487ms/step - loss: 0.0877 - accuracy: 0.9856\n",
            "Epoch 10/25\n",
            "200/200 [==============================] - 100s 501ms/step - loss: 0.0844 - accuracy: 0.9861\n",
            "Epoch 11/25\n",
            "200/200 [==============================] - 97s 483ms/step - loss: 0.0807 - accuracy: 0.9869\n",
            "Epoch 12/25\n",
            "200/200 [==============================] - 98s 490ms/step - loss: 0.0691 - accuracy: 0.9881\n",
            "Epoch 13/25\n",
            "200/200 [==============================] - 95s 476ms/step - loss: 0.0800 - accuracy: 0.9852\n",
            "Epoch 14/25\n",
            "200/200 [==============================] - 97s 485ms/step - loss: 0.0762 - accuracy: 0.9867\n",
            "Epoch 15/25\n",
            "200/200 [==============================] - 95s 474ms/step - loss: 0.0782 - accuracy: 0.9856\n"
          ]
        }
      ]
    },
    {
      "cell_type": "code",
      "source": [
        "model.evaluate(test_data)"
      ],
      "metadata": {
        "colab": {
          "base_uri": "https://localhost:8080/"
        },
        "id": "O2eONxk8d13E",
        "outputId": "3516c2df-cbbf-471a-b96d-13fe36b85245"
      },
      "execution_count": null,
      "outputs": [
        {
          "output_type": "stream",
          "name": "stdout",
          "text": [
            "63/63 [==============================] - 12s 168ms/step - loss: 0.0817 - accuracy: 0.9890\n"
          ]
        },
        {
          "output_type": "execute_result",
          "data": {
            "text/plain": [
              "[0.08170609176158905, 0.9890000224113464]"
            ]
          },
          "metadata": {},
          "execution_count": 7
        }
      ]
    },
    {
      "cell_type": "code",
      "source": [
        "# Using helper function get class names\n",
        "def get_class_names_from_folder(directory):\n",
        "  \"\"\"\n",
        "  Get the classnames from train folder for example\n",
        "  \"\"\"\n",
        "  import pathlib\n",
        "  import numpy as np\n",
        "  data_dir = pathlib.Path(directory)\n",
        "  class_names = np.array(sorted([item.name for item in data_dir.glob(\"*\")])) # Created a list of class names\n",
        "  return class_names\n",
        "  print(class_names)\n",
        "class_names = get_class_names_from_folder(directory=\"/content/dog vs cat/dataset/training_set\")\n",
        "class_names"
      ],
      "metadata": {
        "colab": {
          "base_uri": "https://localhost:8080/"
        },
        "id": "q51Gcj-Xth0f",
        "outputId": "472a2397-2d43-400d-a1e2-b3fee133928f"
      },
      "execution_count": null,
      "outputs": [
        {
          "output_type": "execute_result",
          "data": {
            "text/plain": [
              "array(['cats', 'dogs'], dtype='<U4')"
            ]
          },
          "metadata": {},
          "execution_count": 12
        }
      ]
    },
    {
      "cell_type": "code",
      "source": [
        "import pandas as pd\n",
        "\n",
        "pd.DataFrame(history.history).plot()"
      ],
      "metadata": {
        "colab": {
          "base_uri": "https://localhost:8080/",
          "height": 447
        },
        "id": "jlzSusuyd5ov",
        "outputId": "0331db68-4f5d-4e4a-f5bb-9e7b3a346f68"
      },
      "execution_count": null,
      "outputs": [
        {
          "output_type": "execute_result",
          "data": {
            "text/plain": [
              "<Axes: >"
            ]
          },
          "metadata": {},
          "execution_count": 13
        },
        {
          "output_type": "display_data",
          "data": {
            "text/plain": [
              "<Figure size 640x480 with 1 Axes>"
            ],
            "image/png": "[encoded data removed]"
          },
          "metadata": {}
        }
      ]
    },
    {
      "cell_type": "code",
      "source": [
        "from sklearn.metrics import classification_report\n",
        "import numpy as np\n",
        "\n",
        "# Get the true labels\n",
        "y_test = test_data.classes\n",
        "\n",
        "# Predict the probabilities from the model\n",
        "y_pred_probs = model.predict(test_data)\n",
        "\n",
        "# Convert prediction probabilities to class labels\n",
        "y_pred_classes = np.argmax(y_pred_probs, axis=1)\n",
        "\n",
        "# Calculate accuracy, precision, recall, f1-score\n",
        "report = classification_report(y_test, y_pred_classes, target_names=class_names)\n",
        "\n",
        "print(report)\n"
      ],
      "metadata": {
        "colab": {
          "base_uri": "https://localhost:8080/"
        },
        "id": "si2K2DqKd96N",
        "outputId": "60e0bdef-08af-43fe-b690-19877e6eb1e9"
      },
      "execution_count": null,
      "outputs": [
        {
          "output_type": "stream",
          "name": "stdout",
          "text": [
            "63/63 [==============================] - 8s 130ms/step\n",
            "              precision    recall  f1-score   support\n",
            "\n",
            "        cats       0.49      0.49      0.49      1000\n",
            "        dogs       0.49      0.49      0.49      1000\n",
            "\n",
            "    accuracy                           0.49      2000\n",
            "   macro avg       0.49      0.49      0.49      2000\n",
            "weighted avg       0.49      0.49      0.49      2000\n",
            "\n"
          ]
        }
      ]
    }
  ]
}
